{
 "cells": [
  {
   "cell_type": "code",
   "execution_count": 1,
   "metadata": {},
   "outputs": [],
   "source": [
    "import torch\n",
    "import torch.nn.functional as torchFunc\n",
    "import matplotlib.pyplot as plt\n",
    "%matplotlib inline"
   ]
  },
  {
   "cell_type": "code",
   "execution_count": 2,
   "metadata": {},
   "outputs": [],
   "source": [
    "words = open(\"names.txt\", 'r').read().splitlines()"
   ]
  },
  {
   "cell_type": "code",
   "execution_count": 3,
   "metadata": {},
   "outputs": [
    {
     "name": "stdout",
     "output_type": "stream",
     "text": [
      "{1: 'a', 2: 'b', 3: 'c', 4: 'd', 5: 'e', 6: 'f', 7: 'g', 8: 'h', 9: 'i', 10: 'j', 11: 'k', 12: 'l', 13: 'm', 14: 'n', 15: 'o', 16: 'p', 17: 'q', 18: 'r', 19: 's', 20: 't', 21: 'u', 22: 'v', 23: 'w', 24: 'x', 25: 'y', 26: 'z', 0: '.'}\n"
     ]
    }
   ],
   "source": [
    "characters = sorted(list(set(''.join(words))))\n",
    "char_to_int = {s:i+1 for i,s in enumerate(characters)}\n",
    "char_to_int['.'] = 0\n",
    "int_to_char = {i:s for s,i in char_to_int.items()}\n",
    "print(int_to_char)"
   ]
  },
  {
   "cell_type": "markdown",
   "metadata": {},
   "source": [
    "Building a database to train on database.<br>\n",
    "Will have context and output.<br>\n",
    "For emma, possible database is (given block size is 3)\n",
    "<ul>\n",
    "<li>... -> e</li>\n",
    "<li>..e -> m</li>\n",
    "<li>.em -> m</li>\n",
    "</ul>"
   ]
  },
  {
   "cell_type": "code",
   "execution_count": 4,
   "metadata": {},
   "outputs": [],
   "source": [
    "block_size = 3\n",
    "context_set, result_set = [], []\n",
    "\n",
    "for word in words[:8]:\n",
    "    context = [0]*block_size # '...' -> initial context\n",
    "\n",
    "    for character in word + '.':\n",
    "        result = char_to_int[character]\n",
    "        context_set.append(context)\n",
    "        result_set.append(result)\n",
    "        \n",
    "        # print(''.join(int_to_char[i] for i in context), \"-->\", character)\n",
    "\n",
    "        context = context[1:] + [result]\n",
    "\n",
    "X = torch.tensor(context_set)\n",
    "Y = torch.tensor(result_set)"
   ]
  },
  {
   "cell_type": "code",
   "execution_count": 19,
   "metadata": {},
   "outputs": [],
   "source": [
    "embeddings_size = 2\n",
    "look_up = torch.randn((27, embeddings_size))\n",
    "# look_up[5]\n",
    "# torchFunc.one_hot(torch.tensor(5), num_classes=27).float() @ look_up"
   ]
  },
  {
   "cell_type": "markdown",
   "metadata": {},
   "source": [
    "<h3>Embedding strips down dimension</h3>\n",
    "In our case, we have 27 dimension, 27 possible character\n",
    "We strip it to 2 dimension\n",
    "\n",
    "After embedding calculation, we need a way to look up table of some sort, \n",
    "that can take any character and output that embedded value\n",
    "\n",
    "In our case, look_up is that table\n",
    "\n",
    "<h3>We can access look up in two ways</h3>\n",
    "look_up[ix] to get the necessary vector\n",
    "also we can do this\n",
    "look_up matmul one_hot(ix)\n",
    "\n",
    "Both results in same stuff... only this time, \n",
    "the entire look_up then also becomes a part of the neural net \n",
    "and can be used as weights of the first layer"
   ]
  },
  {
   "cell_type": "markdown",
   "metadata": {},
   "source": [
    "<h3>Now actual algorithm</h3>\n",
    "\n",
    "input is 3 element context, each is embedded to 2D vector... <br>\n",
    "input is 6 dimensional<br>\n",
    "\n",
    "output hyper parameter... we choose 100 just because<br>\n",
    "bias adds to all output so 100 dimension<br>"
   ]
  },
  {
   "cell_type": "code",
   "execution_count": 25,
   "metadata": {},
   "outputs": [],
   "source": [
    "internal_output_size = 100\n",
    "Weight_1 = torch.randn((6, internal_output_size))\n",
    "bias_1 = torch.randn((internal_output_size))"
   ]
  },
  {
   "cell_type": "code",
   "execution_count": 26,
   "metadata": {},
   "outputs": [
    {
     "data": {
      "text/plain": [
       "torch.Size([53, 6])"
      ]
     },
     "execution_count": 26,
     "metadata": {},
     "output_type": "execute_result"
    }
   ],
   "source": [
    "embeddings = look_up[X]\n",
    "embeddings = embeddings.view(-1, embeddings_size * block_size)\n",
    "# view attribute manipulate internal attributes to change shape... main memory does not get changed\n",
    "embeddings.shape"
   ]
  },
  {
   "cell_type": "code",
   "execution_count": 27,
   "metadata": {},
   "outputs": [
    {
     "data": {
      "text/plain": [
       "torch.Size([53, 100])"
      ]
     },
     "execution_count": 27,
     "metadata": {},
     "output_type": "execute_result"
    }
   ],
   "source": [
    "output_1 = torch.tanh(embeddings @ Weight_1 + bias_1)\n",
    "output_1.shape"
   ]
  },
  {
   "cell_type": "code",
   "execution_count": 28,
   "metadata": {},
   "outputs": [
    {
     "data": {
      "text/plain": [
       "torch.Size([53, 27])"
      ]
     },
     "execution_count": 28,
     "metadata": {},
     "output_type": "execute_result"
    }
   ],
   "source": [
    "Weight_2 = torch.randn((internal_output_size, 27))\n",
    "bias_2 = torch.randn((27))\n",
    "logits = output_1 @ Weight_2 + bias_2\n",
    "counts = logits.exp()\n",
    "prob = counts / counts.sum(dim=1, keepdim=True)\n",
    "\n",
    "prob.shape"
   ]
  },
  {
   "cell_type": "code",
   "execution_count": 33,
   "metadata": {},
   "outputs": [
    {
     "data": {
      "text/plain": [
       "tensor(16.9811)"
      ]
     },
     "execution_count": 33,
     "metadata": {},
     "output_type": "execute_result"
    }
   ],
   "source": [
    "loss = -prob[torch.arange(53), Y].log().mean()\n",
    "loss"
   ]
  },
  {
   "cell_type": "code",
   "execution_count": 34,
   "metadata": {},
   "outputs": [],
   "source": [
    "#------------------ now cleaning up ----------------#"
   ]
  },
  {
   "cell_type": "code",
   "execution_count": 35,
   "metadata": {},
   "outputs": [
    {
     "data": {
      "text/plain": [
       "(torch.Size([53, 3]), torch.Size([53]))"
      ]
     },
     "execution_count": 35,
     "metadata": {},
     "output_type": "execute_result"
    }
   ],
   "source": [
    "X.shape, Y.shape # dataset"
   ]
  },
  {
   "cell_type": "code",
   "execution_count": 36,
   "metadata": {},
   "outputs": [],
   "source": [
    "g = torch.Generator().manual_seed(2147483647)\n",
    "look_up = torch.randn((27, 2), generator=g)\n",
    "internal_output_size = 100\n",
    "Weight_1 = torch.randn((6, internal_output_size), generator=g)\n",
    "bias_1 = torch.randn((internal_output_size), generator=g)\n",
    "Weight_2 = torch.randn((internal_output_size, 27), generator=g)\n",
    "bias_2 = torch.randn((27), generator=g)\n",
    "parameters = [look_up, Weight_1, bias_1, Weight_2, bias_2]"
   ]
  },
  {
   "cell_type": "code",
   "execution_count": 37,
   "metadata": {},
   "outputs": [
    {
     "data": {
      "text/plain": [
       "3481"
      ]
     },
     "execution_count": 37,
     "metadata": {},
     "output_type": "execute_result"
    }
   ],
   "source": [
    "sum(p.nelement() for p in parameters)"
   ]
  },
  {
   "cell_type": "code",
   "execution_count": 40,
   "metadata": {},
   "outputs": [
    {
     "data": {
      "text/plain": [
       "tensor(16.1878)"
      ]
     },
     "execution_count": 40,
     "metadata": {},
     "output_type": "execute_result"
    }
   ],
   "source": [
    "embeddings = look_up[X].view(-1, embeddings_size * block_size)\n",
    "output_1 = torch.tanh(embeddings @ Weight_1 + bias_1)\n",
    "logits = output_1 @ Weight_2 + bias_2\n",
    "# counts = logits.exp()\n",
    "# prob = counts / counts.sum(dim=1, keepdim=True)\n",
    "# loss = -prob[torch.arange(53), Y].log().mean()\n",
    "loss = torchFunc.cross_entropy(logits, Y) # all of the above... in one beautiful line\n",
    "loss"
   ]
  },
  {
   "cell_type": "code",
   "execution_count": 41,
   "metadata": {},
   "outputs": [],
   "source": [
    "#------------------ more cleaning up ----------------#"
   ]
  },
  {
   "cell_type": "code",
   "execution_count": 35,
   "metadata": {},
   "outputs": [
    {
     "name": "stdout",
     "output_type": "stream",
     "text": [
      "torch.Size([228146, 3]) torch.Size([228146])\n"
     ]
    }
   ],
   "source": [
    "import torch\n",
    "import torch.nn.functional as torchFunc\n",
    "import matplotlib.pyplot as plt\n",
    "%matplotlib inline\n",
    "\n",
    "# word list\n",
    "words = open(\"names.txt\", 'r').read().splitlines()\n",
    "characters = sorted(list(set(''.join(words))))\n",
    "char_to_int = {s:i+1 for i,s in enumerate(characters)}\n",
    "char_to_int['.'] = 0\n",
    "int_to_char = {i:s for s,i in char_to_int.items()}\n",
    "\n",
    "# database creation\n",
    "block_size = 3\n",
    "context_set, result_set = [], []\n",
    "\n",
    "for word in words:\n",
    "    context = [0]*block_size # '...' -> initial context\n",
    "\n",
    "    for character in word + '.':\n",
    "        result = char_to_int[character]\n",
    "        context_set.append(context)\n",
    "        result_set.append(result)\n",
    "\n",
    "        context = context[1:] + [result]\n",
    "\n",
    "X = torch.tensor(context_set)\n",
    "Y = torch.tensor(result_set)\n",
    "\n",
    "print(X.shape, Y.shape)"
   ]
  },
  {
   "cell_type": "code",
   "execution_count": 51,
   "metadata": {},
   "outputs": [],
   "source": [
    "# generating parameters\n",
    "g = torch.Generator().manual_seed(2147483647)\n",
    "internal_output_size = 100\n",
    "embeddings_size = 2\n",
    "\n",
    "look_up = torch.randn((27, embeddings_size), generator=g, requires_grad=True)\n",
    "Weight_1 = torch.randn((6, internal_output_size), generator=g, requires_grad=True)\n",
    "bias_1 = torch.randn((internal_output_size), generator=g, requires_grad=True)\n",
    "Weight_2 = torch.randn((internal_output_size, 27), generator=g, requires_grad=True)\n",
    "bias_2 = torch.randn((27), generator=g, requires_grad=True)\n",
    "parameters = [look_up, Weight_1, bias_1, Weight_2, bias_2]\n"
   ]
  },
  {
   "cell_type": "code",
   "execution_count": 19,
   "metadata": {},
   "outputs": [
    {
     "name": "stdout",
     "output_type": "stream",
     "text": [
      "10.709589004516602\n",
      "10.407635688781738\n",
      "10.127811431884766\n",
      "9.86436939239502\n",
      "9.614506721496582\n",
      "9.376442909240723\n",
      "9.14894962310791\n",
      "8.93111515045166\n",
      "8.722233772277832\n",
      "8.52175235748291\n",
      "8.52175235748291\n"
     ]
    }
   ],
   "source": [
    "# for _ in range(10):\n",
    "#     # forward pass\n",
    "#     embeddings = look_up[X].view(-1, embeddings_size * block_size)\n",
    "#     output_1 = torch.tanh(embeddings @ Weight_1 + bias_1)\n",
    "#     logits = output_1 @ Weight_2 + bias_2\n",
    "#     loss = torchFunc.cross_entropy(logits, Y)\n",
    "#     print(loss.item())\n",
    "\n",
    "#     # backward pass\n",
    "#     for p in parameters:\n",
    "#         p.grad = None\n",
    "#     loss.backward()\n",
    "\n",
    "#     #update\n",
    "#     for p in parameters:\n",
    "#         p.data += -0.1 * p.grad\n",
    "\n",
    "# print(loss.item())"
   ]
  },
  {
   "cell_type": "code",
   "execution_count": null,
   "metadata": {},
   "outputs": [],
   "source": [
    "lre = torch.linspace(-3, 0, 1000)\n",
    "lrs = 10**lre\n",
    "lrs"
   ]
  },
  {
   "cell_type": "code",
   "execution_count": 54,
   "metadata": {},
   "outputs": [
    {
     "name": "stdout",
     "output_type": "stream",
     "text": [
      "2.022517204284668\n"
     ]
    }
   ],
   "source": [
    "# better solution -> generating minibatch\n",
    "# learning_rate_index = []\n",
    "# loss_index = []\n",
    "learning_rate = 10 ** -0.7\n",
    "learning_rate *= .1\n",
    "for i in range(100000):\n",
    "\n",
    "    # minibatch construct (32 element at a time)\n",
    "    ix = torch.randint(0, X.shape[0], (32,))\n",
    "\n",
    "    # forward pass\n",
    "    embeddings = look_up[X[ix]].view(-1, embeddings_size * block_size)\n",
    "    output_1 = torch.tanh(embeddings @ Weight_1 + bias_1)\n",
    "    logits = output_1 @ Weight_2 + bias_2\n",
    "    loss = torchFunc.cross_entropy(logits, Y[ix])\n",
    "    # print(loss.item())\n",
    "\n",
    "    # backward pass\n",
    "    for p in parameters:\n",
    "        p.grad = None\n",
    "    loss.backward()\n",
    "\n",
    "    #update\n",
    "    # learning_rate = lrs[i]\n",
    "    for p in parameters:\n",
    "        p.data += -learning_rate * p.grad\n",
    "\n",
    "    # track\n",
    "    # learning_rate_index.append(lre[i])\n",
    "    # loss_index.append(loss.item())\n",
    "\n",
    "print(loss.item())"
   ]
  },
  {
   "cell_type": "code",
   "execution_count": 47,
   "metadata": {},
   "outputs": [
    {
     "data": {
      "text/plain": [
       "[<matplotlib.lines.Line2D at 0x1dd47b68f10>]"
      ]
     },
     "execution_count": 47,
     "metadata": {},
     "output_type": "execute_result"
    },
    {
     "data": {
      "image/png": "[encoded data removed]",
      "text/plain": [
       "<Figure size 640x480 with 1 Axes>"
      ]
     },
     "metadata": {},
     "output_type": "display_data"
    }
   ],
   "source": [
    "# plt.plot(learning_rate_index, loss_index)"
   ]
  },
  {
   "cell_type": "code",
   "execution_count": 55,
   "metadata": {},
   "outputs": [
    {
     "name": "stdout",
     "output_type": "stream",
     "text": [
      "2.210862636566162\n"
     ]
    }
   ],
   "source": [
    "# loss for all\n",
    "embeddings = look_up[X].view(-1, embeddings_size * block_size)\n",
    "output_1 = torch.tanh(embeddings @ Weight_1 + bias_1)\n",
    "logits = output_1 @ Weight_2 + bias_2\n",
    "loss = torchFunc.cross_entropy(logits, Y)\n",
    "print(loss.item())"
   ]
  },
  {
   "cell_type": "code",
   "execution_count": null,
   "metadata": {},
   "outputs": [],
   "source": []
  }
 ],
 "metadata": {
  "kernelspec": {
   "display_name": "Python 3",
   "language": "python",
   "name": "python3"
  },
  "language_info": {
   "codemirror_mode": {
    "name": "ipython",
    "version": 3
   },
   "file_extension": ".py",
   "mimetype": "text/x-python",
   "name": "python",
   "nbconvert_exporter": "python",
   "pygments_lexer": "ipython3",
   "version": "3.10.7"
  },
  "orig_nbformat": 4
 },
 "nbformat": 4,
 "nbformat_minor": 2
}
