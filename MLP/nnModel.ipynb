{
 "cells": [
  {
   "cell_type": "code",
   "execution_count": 1,
   "metadata": {},
   "outputs": [],
   "source": [
    "import numpy as np\n",
    "import matplotlib.pyplot as plt\n",
    "import seaborn as sns\n",
    "import torch\n",
    "import torch.nn.functional as F\n",
    "%matplotlib inline"
   ]
  },
  {
   "cell_type": "code",
   "execution_count": 2,
   "metadata": {},
   "outputs": [
    {
     "data": {
      "text/plain": [
       "['emma', 'olivia', 'ava', 'isabella', 'sophia', 'charlotte', 'mia', 'amelia']"
      ]
     },
     "execution_count": 2,
     "metadata": {},
     "output_type": "execute_result"
    }
   ],
   "source": [
    "with open('names.txt') as f:\n",
    "    words = f.read().splitlines()\n",
    "words[:8]"
   ]
  },
  {
   "cell_type": "code",
   "execution_count": 3,
   "metadata": {},
   "outputs": [
    {
     "data": {
      "text/plain": [
       "32033"
      ]
     },
     "execution_count": 3,
     "metadata": {},
     "output_type": "execute_result"
    }
   ],
   "source": [
    "len(words)"
   ]
  },
  {
   "cell_type": "code",
   "execution_count": 4,
   "metadata": {},
   "outputs": [],
   "source": [
    "chars = sorted(list(set(''.join(words))))\n",
    "stoi = {ch: i+1 for i, ch in enumerate(chars)}\n",
    "stoi['$'] = 0\n",
    "itos = {i: ch for ch, i in stoi.items()}"
   ]
  },
  {
   "cell_type": "code",
   "execution_count": 5,
   "metadata": {},
   "outputs": [
    {
     "name": "stdout",
     "output_type": "stream",
     "text": [
      "emma\n",
      "$$$ ---> e\n",
      "$$e ---> m\n",
      "$em ---> m\n",
      "emm ---> a\n",
      "mma ---> $\n",
      "olivia\n",
      "$$$ ---> o\n",
      "$$o ---> l\n",
      "$ol ---> i\n",
      "oli ---> v\n",
      "liv ---> i\n",
      "ivi ---> a\n",
      "via ---> $\n",
      "ava\n",
      "$$$ ---> a\n",
      "$$a ---> v\n",
      "$av ---> a\n",
      "ava ---> $\n"
     ]
    }
   ],
   "source": [
    "block_size = 3  # context\n",
    "\n",
    "X, Y = [], []\n",
    "\n",
    "for word in words[:3]:\n",
    "    print(word)\n",
    "    context = [0] * block_size\n",
    "\n",
    "    for ch in word + \"$\":\n",
    "        X.append(context)\n",
    "        Y.append(stoi[ch])\n",
    "        print(\"\".join([itos[i] for i in context]), \"--->\", ch)\n",
    "        context = context[1:] + [stoi[ch]]\n",
    "\n",
    "X = torch.tensor(X)\n",
    "Y = torch.tensor(Y)"
   ]
  },
  {
   "cell_type": "code",
   "execution_count": 6,
   "metadata": {},
   "outputs": [
    {
     "data": {
      "text/plain": [
       "(torch.Size([16, 3]), torch.Size([16]))"
      ]
     },
     "execution_count": 6,
     "metadata": {},
     "output_type": "execute_result"
    }
   ],
   "source": [
    "X.shape, Y.shape"
   ]
  },
  {
   "cell_type": "code",
   "execution_count": 7,
   "metadata": {},
   "outputs": [],
   "source": [
    "# per character embedding\n",
    "emb = torch.randn((27, 2))"
   ]
  },
  {
   "cell_type": "code",
   "execution_count": 8,
   "metadata": {},
   "outputs": [
    {
     "name": "stdout",
     "output_type": "stream",
     "text": [
      "a tensor([0.5514, 0.6251])\n",
      "b tensor([1.4787, 1.4839])\n",
      "c tensor([0.3322, 1.9561])\n",
      "d tensor([-2.4334, -0.9214])\n",
      "e tensor([ 0.6263, -0.4940])\n"
     ]
    }
   ],
   "source": [
    "for ch in chars[:5]:\n",
    "    print(ch, emb[stoi[ch]])"
   ]
  },
  {
   "cell_type": "code",
   "execution_count": 9,
   "metadata": {},
   "outputs": [
    {
     "data": {
      "text/plain": [
       "torch.Size([16, 3, 2])"
      ]
     },
     "execution_count": 9,
     "metadata": {},
     "output_type": "execute_result"
    }
   ],
   "source": [
    "emb[X].shape"
   ]
  },
  {
   "cell_type": "code",
   "execution_count": 10,
   "metadata": {},
   "outputs": [
    {
     "data": {
      "text/plain": [
       "tensor([[-0.4256, -0.2855, -0.4256, -0.2855, -0.4256, -0.2855],\n",
       "        [-0.4256, -0.2855, -0.4256, -0.2855,  0.6263, -0.4940],\n",
       "        [-0.4256, -0.2855,  0.6263, -0.4940,  1.5738, -0.2372],\n",
       "        [ 0.6263, -0.4940,  1.5738, -0.2372,  1.5738, -0.2372],\n",
       "        [ 1.5738, -0.2372,  1.5738, -0.2372,  0.5514,  0.6251],\n",
       "        [-0.4256, -0.2855, -0.4256, -0.2855, -0.4256, -0.2855],\n",
       "        [-0.4256, -0.2855, -0.4256, -0.2855, -0.4661, -0.6191],\n",
       "        [-0.4256, -0.2855, -0.4661, -0.6191, -0.5299,  0.8688],\n",
       "        [-0.4661, -0.6191, -0.5299,  0.8688,  0.0991,  0.0444],\n",
       "        [-0.5299,  0.8688,  0.0991,  0.0444,  0.7078,  1.2652],\n",
       "        [ 0.0991,  0.0444,  0.7078,  1.2652,  0.0991,  0.0444],\n",
       "        [ 0.7078,  1.2652,  0.0991,  0.0444,  0.5514,  0.6251],\n",
       "        [-0.4256, -0.2855, -0.4256, -0.2855, -0.4256, -0.2855],\n",
       "        [-0.4256, -0.2855, -0.4256, -0.2855,  0.5514,  0.6251],\n",
       "        [-0.4256, -0.2855,  0.5514,  0.6251,  0.7078,  1.2652],\n",
       "        [ 0.5514,  0.6251,  0.7078,  1.2652,  0.5514,  0.6251]])"
      ]
     },
     "execution_count": 10,
     "metadata": {},
     "output_type": "execute_result"
    }
   ],
   "source": [
    "emb[X].view(-1,6)"
   ]
  },
  {
   "cell_type": "code",
   "execution_count": 11,
   "metadata": {},
   "outputs": [],
   "source": [
    "w1 = torch.randn(6, 100)\n",
    "b1 = torch.randn(100)\n",
    "w2 = torch.randn(100, 27)\n",
    "b2 = torch.randn(27)"
   ]
  },
  {
   "cell_type": "code",
   "execution_count": 12,
   "metadata": {},
   "outputs": [
    {
     "data": {
      "text/plain": [
       "torch.Size([16, 100])"
      ]
     },
     "execution_count": 12,
     "metadata": {},
     "output_type": "execute_result"
    }
   ],
   "source": [
    "h = F.tanh(emb[X].view(-1,6) @ w1 + b1)\n",
    "h.shape"
   ]
  },
  {
   "cell_type": "code",
   "execution_count": 13,
   "metadata": {},
   "outputs": [
    {
     "data": {
      "text/plain": [
       "torch.Size([16, 27])"
      ]
     },
     "execution_count": 13,
     "metadata": {},
     "output_type": "execute_result"
    }
   ],
   "source": [
    "logits = h @ w2 + b2\n",
    "logits.shape"
   ]
  },
  {
   "cell_type": "code",
   "execution_count": 14,
   "metadata": {},
   "outputs": [
    {
     "data": {
      "text/plain": [
       "torch.Size([16, 27])"
      ]
     },
     "execution_count": 14,
     "metadata": {},
     "output_type": "execute_result"
    }
   ],
   "source": [
    "prob = F.softmax(logits, dim=1)\n",
    "prob.shape"
   ]
  },
  {
   "cell_type": "code",
   "execution_count": 15,
   "metadata": {},
   "outputs": [
    {
     "data": {
      "text/plain": [
       "torch.Size([16])"
      ]
     },
     "execution_count": 15,
     "metadata": {},
     "output_type": "execute_result"
    }
   ],
   "source": [
    "prob.sum(1).shape"
   ]
  },
  {
   "cell_type": "markdown",
   "metadata": {},
   "source": [
    "## Re writing everything for training"
   ]
  },
  {
   "cell_type": "code",
   "execution_count": 16,
   "metadata": {},
   "outputs": [],
   "source": [
    "# Data preprosessing\n",
    "with open('names.txt') as f:\n",
    "    words = f.read().splitlines()\n",
    "\n",
    "chars = sorted(list(set(''.join(words))))\n",
    "stoi = {ch: i+1 for i, ch in enumerate(chars)}\n",
    "stoi['$'] = 0\n",
    "itos = {i: ch for ch, i in stoi.items()}\n",
    "\n",
    "block_size = 3  # context\n",
    "\n",
    "X, Y = [], []\n",
    "\n",
    "for word in words:\n",
    "    context = [0] * block_size\n",
    "\n",
    "    for ch in word + \"$\":\n",
    "        X.append(context)\n",
    "        Y.append(stoi[ch])\n",
    "        context = context[1:] + [stoi[ch]]\n",
    "\n",
    "X = torch.tensor(X)\n",
    "Y = torch.tensor(Y)"
   ]
  },
  {
   "cell_type": "code",
   "execution_count": 17,
   "metadata": {},
   "outputs": [],
   "source": [
    "# Model weights and biases\n",
    "\n",
    "emb_space = 2\n",
    "hidden = 100\n",
    "char_size = len(stoi)\n",
    "\n",
    "g = torch.Generator().manual_seed(214_748_3647)\n",
    "emb = torch.randn((char_size, emb_space), generator=g)\n",
    "W1 = torch.randn((block_size * emb_space, hidden), generator=g)\n",
    "b1 = torch.randn(hidden, generator=g)\n",
    "W2 = torch.randn((hidden, char_size), generator=g)\n",
    "b2 = torch.randn(char_size, generator=g)\n",
    "\n",
    "parameters = [emb, W1, b1, W2, b2]\n",
    "for p in parameters:\n",
    "    p.requires_grad_()"
   ]
  },
  {
   "cell_type": "code",
   "execution_count": 23,
   "metadata": {},
   "outputs": [
    {
     "name": "stdout",
     "output_type": "stream",
     "text": [
      "2.3799335956573486\n",
      "2.3799326419830322\n",
      "2.379940986633301\n",
      "2.379932165145874\n",
      "2.3799281120300293\n",
      "2.3799383640289307\n",
      "2.3799383640289307\n",
      "2.3799455165863037\n",
      "2.3799567222595215\n",
      "2.3799502849578857\n",
      "2.3799455165863037\n",
      "2.3799493312835693\n",
      "2.379934787750244\n",
      "2.3799219131469727\n",
      "2.3799126148223877\n",
      "2.3799054622650146\n",
      "2.3799021244049072\n",
      "2.379899501800537\n",
      "2.3798930644989014\n",
      "2.3798937797546387\n",
      "2.3798959255218506\n",
      "2.379890203475952\n",
      "2.379889488220215\n",
      "2.3798885345458984\n",
      "2.379884719848633\n",
      "2.379892587661743\n",
      "2.3798887729644775\n",
      "2.3798820972442627\n",
      "2.3798842430114746\n",
      "2.3798828125\n",
      "2.3798863887786865\n",
      "2.3798794746398926\n",
      "2.379878282546997\n",
      "2.3798787593841553\n",
      "2.3798813819885254\n",
      "2.379868268966675\n",
      "2.379871129989624\n",
      "2.379871129989624\n",
      "2.379873514175415\n",
      "2.379871129989624\n",
      "2.379882574081421\n",
      "2.37988018989563\n",
      "2.3798794746398926\n",
      "2.379892587661743\n",
      "2.379892587661743\n",
      "2.3798837661743164\n",
      "2.3798820972442627\n",
      "2.3798673152923584\n",
      "2.379866600036621\n",
      "2.3798599243164062\n",
      "2.3798575401306152\n",
      "2.379854679107666\n",
      "2.379847288131714\n",
      "2.3798398971557617\n",
      "2.379838705062866\n",
      "2.379842758178711\n",
      "2.379833698272705\n",
      "2.3798327445983887\n",
      "2.379826784133911\n",
      "2.3798234462738037\n",
      "2.3798270225524902\n",
      "2.37982177734375\n",
      "2.379812717437744\n",
      "2.379814863204956\n",
      "2.3798038959503174\n",
      "2.379802942276001\n",
      "2.379804849624634\n",
      "2.379800319671631\n",
      "2.3797967433929443\n",
      "2.379793643951416\n",
      "2.379798412322998\n",
      "2.3797967433929443\n",
      "2.379798650741577\n",
      "2.37979793548584\n",
      "2.3797919750213623\n",
      "2.379781484603882\n",
      "2.379786252975464\n",
      "2.379789352416992\n",
      "2.3797872066497803\n",
      "2.3797881603240967\n",
      "2.379784107208252\n",
      "2.379774808883667\n",
      "2.379772901535034\n",
      "2.3797688484191895\n",
      "2.3797736167907715\n",
      "2.3797686100006104\n",
      "2.3797643184661865\n",
      "2.379761219024658\n",
      "2.379760980606079\n",
      "2.379765510559082\n",
      "2.3797569274902344\n",
      "2.3797552585601807\n",
      "2.379749059677124\n",
      "2.3797523975372314\n",
      "2.3797409534454346\n",
      "2.379751443862915\n",
      "2.379750967025757\n",
      "2.3797452449798584\n",
      "2.379744291305542\n",
      "2.37974214553833\n"
     ]
    }
   ],
   "source": [
    "for iter in range(10000):\n",
    "    # mini-batch\n",
    "    idx = torch.randint(0, len(X), (32,))\n",
    "    x = X[idx]\n",
    "    y = Y[idx]\n",
    "    \n",
    "    # Forward pass\n",
    "    h = F.tanh(emb[x].view(-1, block_size * emb_space) @ W1 + b1)\n",
    "    logits = h @ W2 + b2\n",
    "    loss = F.cross_entropy(logits, y)\n",
    "\n",
    "    for p in parameters:\n",
    "        p.grad = None\n",
    "\n",
    "    # Backward pass\n",
    "    loss.backward()\n",
    "\n",
    "    # Update weights\n",
    "    for p in parameters:\n",
    "        p.data -= 0.0001 * p.grad\n",
    "\n",
    "    if iter % 100 == 0:\n",
    "        h = F.tanh(emb[X].view(-1, block_size * emb_space) @ W1 + b1)\n",
    "        logits = h @ W2 + b2\n",
    "        loss = F.cross_entropy(logits, Y)\n",
    "        print(loss.item())"
   ]
  },
  {
   "cell_type": "markdown",
   "metadata": {},
   "source": [
    "# Final Code"
   ]
  },
  {
   "cell_type": "code",
   "execution_count": 43,
   "metadata": {},
   "outputs": [],
   "source": [
    "# Data preprosessing \n",
    "block_size = 3  # context\n",
    "split_ratio = 0.8\n",
    "\n",
    "with open('names.txt') as f:\n",
    "    words = f.read().splitlines()\n",
    "\n",
    "chars = sorted(list(set(''.join(words))))\n",
    "stoi = {ch: i+1 for i, ch in enumerate(chars)}\n",
    "stoi['$'] = 0\n",
    "itos = {i: ch for ch, i in stoi.items()}\n",
    "\n",
    "\n",
    "X, Y = [], []\n",
    "\n",
    "for word in words:\n",
    "    context = [0] * block_size\n",
    "\n",
    "    for ch in word + \"$\":\n",
    "        X.append(context)\n",
    "        Y.append(stoi[ch])\n",
    "        context = context[1:] + [stoi[ch]]\n",
    "\n",
    "X = torch.tensor(X)\n",
    "Y = torch.tensor(Y)\n",
    "\n",
    "X_train, X_valid = X[:int(len(X) * split_ratio)], X[int(len(X) * split_ratio):]\n",
    "Y_train, Y_valid = Y[:int(len(Y) * split_ratio)], Y[int(len(Y) * split_ratio):]"
   ]
  },
  {
   "cell_type": "code",
   "execution_count": 44,
   "metadata": {},
   "outputs": [],
   "source": [
    "# Model weights and biases\n",
    "emb_space = 16\n",
    "hidden = 100\n",
    "char_size = len(stoi)\n",
    "\n",
    "g = torch.Generator().manual_seed(214_748_3647)\n",
    "emb = torch.randn((char_size, emb_space), generator=g)\n",
    "W1 = torch.randn((block_size * emb_space, hidden), generator=g)\n",
    "b1 = torch.randn(hidden, generator=g)\n",
    "W2 = torch.randn((hidden, char_size), generator=g)\n",
    "b2 = torch.randn(char_size, generator=g)\n",
    "\n",
    "parameters = [emb, W1, b1, W2, b2]\n",
    "for p in parameters:\n",
    "    p.requires_grad_()"
   ]
  },
  {
   "cell_type": "code",
   "execution_count": 58,
   "metadata": {},
   "outputs": [],
   "source": [
    "# Training\n",
    "iteration = 50_000\n",
    "minbatch_size = 128\n",
    "\n",
    "losses = []\n",
    "for iter in range(iteration):\n",
    "    # mini-batch\n",
    "    idx = torch.randint(0, len(X_train), (minbatch_size,))\n",
    "    x = X_train[idx]\n",
    "    y = Y_train[idx]\n",
    "    \n",
    "    # Forward pass\n",
    "    h = F.tanh(emb[x].view(-1, block_size * emb_space) @ W1 + b1)\n",
    "    logits = h @ W2 + b2\n",
    "    loss = F.cross_entropy(logits, y)\n",
    "\n",
    "    for p in parameters:\n",
    "        p.grad = None\n",
    "\n",
    "    # Backward pass\n",
    "    loss.backward()\n",
    "    learning_rate = 0.005\n",
    "\n",
    "    # Update weights\n",
    "    for p in parameters:\n",
    "        p.data -= learning_rate * p.grad\n",
    "\n",
    "    if iter % 500 == 0:\n",
    "        h = F.tanh(emb[X_valid].view(-1, block_size * emb_space) @ W1 + b1)\n",
    "        logits = h @ W2 + b2\n",
    "        loss = F.cross_entropy(logits, Y_valid)\n",
    "        losses.append(loss.item())"
   ]
  },
  {
   "cell_type": "code",
   "execution_count": 59,
   "metadata": {},
   "outputs": [
    {
     "data": {
      "text/plain": [
       "[<matplotlib.lines.Line2D at 0x7fde371b2b30>]"
      ]
     },
     "execution_count": 59,
     "metadata": {},
     "output_type": "execute_result"
    },
    {
     "data": {
      "image/png": "[encoded data removed]",
      "text/plain": [
       "<Figure size 640x480 with 1 Axes>"
      ]
     },
     "metadata": {},
     "output_type": "display_data"
    }
   ],
   "source": [
    "plt.plot(losses)"
   ]
  },
  {
   "cell_type": "code",
   "execution_count": 60,
   "metadata": {},
   "outputs": [
    {
     "data": {
      "text/plain": [
       "2.431807518005371"
      ]
     },
     "execution_count": 60,
     "metadata": {},
     "output_type": "execute_result"
    }
   ],
   "source": [
    "# Calcualte Validation Loss\n",
    "h = F.tanh(emb[X_valid].view(-1, block_size * emb_space) @ W1 + b1)\n",
    "logits = h @ W2 + b2\n",
    "loss = F.cross_entropy(logits, Y_valid)\n",
    "loss.item()"
   ]
  },
  {
   "cell_type": "code",
   "execution_count": 61,
   "metadata": {},
   "outputs": [
    {
     "name": "stdout",
     "output_type": "stream",
     "text": [
      "alean\n",
      "lambereth\n",
      "ilia\n",
      "cnizoruinn\n",
      "anger\n",
      "zirgena\n",
      "holsyn\n",
      "achi\n",
      "kinzlana\n",
      "far\n"
     ]
    }
   ],
   "source": [
    "# Generate names\n",
    "def generate_name():\n",
    "    name = \"\"\n",
    "    context = [0] * block_size\n",
    "    while True:\n",
    "        x = torch.tensor(context).view(1, -1)\n",
    "        h = F.tanh(emb[x].view(-1, block_size * emb_space) @ W1 + b1)\n",
    "        logits = h @ W2 + b2\n",
    "        prob = F.softmax(logits, dim=1)\n",
    "        next_char = torch.multinomial(prob.view(-1), 1).item()\n",
    "        if next_char == 0:\n",
    "            break\n",
    "        name += itos[next_char]\n",
    "        context = context[1:] + [next_char]\n",
    "    return name\n",
    "\n",
    "for _ in range(10):\n",
    "    print(generate_name())"
   ]
  },
  {
   "cell_type": "code",
   "execution_count": null,
   "metadata": {},
   "outputs": [],
   "source": []
  }
 ],
 "metadata": {
  "kernelspec": {
   "display_name": "Python 3",
   "language": "python",
   "name": "python3"
  },
  "language_info": {
   "codemirror_mode": {
    "name": "ipython",
    "version": 3
   },
   "file_extension": ".py",
   "mimetype": "text/x-python",
   "name": "python",
   "nbconvert_exporter": "python",
   "pygments_lexer": "ipython3",
   "version": "3.10.12"
  }
 },
 "nbformat": 4,
 "nbformat_minor": 2
}
