{
 "cells": [
  {
   "cell_type": "code",
   "execution_count": 8,
   "metadata": {},
   "outputs": [],
   "source": [
    "import numpy as np\n",
    "import matplotlib.pyplot as plt\n",
    "import seaborn as sns\n",
    "import torch\n",
    "import torch.nn.functional as F\n",
    "%matplotlib inline"
   ]
  },
  {
   "cell_type": "markdown",
   "metadata": {},
   "source": [
    "# Final Code"
   ]
  },
  {
   "cell_type": "code",
   "execution_count": 9,
   "metadata": {},
   "outputs": [],
   "source": [
    "# Data preprosessing \n",
    "block_size = 3  # context\n",
    "split_ratio = 0.8\n",
    "\n",
    "with open('names.txt') as f:\n",
    "    words = f.read().splitlines()\n",
    "\n",
    "chars = sorted(list(set(''.join(words))))\n",
    "stoi = {ch: i+1 for i, ch in enumerate(chars)}\n",
    "stoi['$'] = 0\n",
    "itos = {i: ch for ch, i in stoi.items()}\n",
    "\n",
    "\n",
    "X, Y = [], []\n",
    "\n",
    "for word in words:\n",
    "    context = [0] * block_size\n",
    "\n",
    "    for ch in word + \"$\":\n",
    "        X.append(context)\n",
    "        Y.append(stoi[ch])\n",
    "        context = context[1:] + [stoi[ch]]\n",
    "\n",
    "X = torch.tensor(X)\n",
    "Y = torch.tensor(Y)\n",
    "\n",
    "X_train, X_valid = X[:int(len(X) * split_ratio)], X[int(len(X) * split_ratio):]\n",
    "Y_train, Y_valid = Y[:int(len(Y) * split_ratio)], Y[int(len(Y) * split_ratio):]"
   ]
  },
  {
   "cell_type": "code",
   "execution_count": 10,
   "metadata": {},
   "outputs": [],
   "source": [
    "# Model weights and biases\n",
    "emb_space = 16\n",
    "hidden = 400\n",
    "char_size = len(stoi)\n",
    "\n",
    "g = torch.Generator().manual_seed(214_748_3647)\n",
    "emb = torch.randn((char_size, emb_space), generator=g)\n",
    "W1 = torch.randn((block_size * emb_space, hidden), generator=g) * (\n",
    "    (5 / 3) / np.sqrt(block_size * emb_space)\n",
    ")\n",
    "b1 = torch.randn(hidden, generator=g) * 0\n",
    "W2 = torch.randn((hidden, char_size), generator=g) * 0.01\n",
    "b2 = torch.randn(char_size, generator=g) * 0\n",
    "\n",
    "parameters = [emb, W1, b1, W2, b2]\n",
    "for p in parameters:\n",
    "    p.requires_grad_()"
   ]
  },
  {
   "cell_type": "code",
   "execution_count": 11,
   "metadata": {},
   "outputs": [
    {
     "name": "stdout",
     "output_type": "stream",
     "text": [
      "Iter: 0, Loss: 3.287273406982422\n",
      "Iter: 50000, Loss: 2.3561642169952393\n",
      "Iter: 100000, Loss: 2.34829044342041\n",
      "Iter: 150000, Loss: 2.3347649574279785\n",
      "Iter: 200000, Loss: 2.3357040882110596\n",
      "Iter: 250000, Loss: 2.3420369625091553\n",
      "Iter: 300000, Loss: 2.3465309143066406\n",
      "Iter: 350000, Loss: 2.3442869186401367\n",
      "Iter: 400000, Loss: 2.3481571674346924\n",
      "Iter: 450000, Loss: 2.3472743034362793\n"
     ]
    }
   ],
   "source": [
    "# Training\n",
    "iteration = 500_000\n",
    "minbatch_size = 32\n",
    "\n",
    "losses = []\n",
    "for iter in range(iteration):\n",
    "    # mini-batch\n",
    "    idx = torch.randint(0, len(X_train), (minbatch_size,))\n",
    "    x = X_train[idx]\n",
    "    y = Y_train[idx]\n",
    "    \n",
    "    # Forward pass\n",
    "    h = F.tanh(emb[x].view(-1, block_size * emb_space) @ W1 + b1)\n",
    "    logits = h @ W2 + b2\n",
    "    loss = F.cross_entropy(logits, y)\n",
    "\n",
    "    for p in parameters:\n",
    "        p.grad = None\n",
    "\n",
    "    # Backward pass\n",
    "    loss.backward()\n",
    "\n",
    "    if iter < 50_000:\n",
    "        learning_rate = 0.1\n",
    "    elif iter < 100_000:\n",
    "        learning_rate = 0.05\n",
    "    elif iter < 200_000:\n",
    "        learning_rate = 0.01\n",
    "\n",
    "    # Update weights\n",
    "    for p in parameters:\n",
    "        p.data -= learning_rate * p.grad\n",
    "\n",
    "    if iter % 50_000 == 0:\n",
    "        h = F.tanh(emb[X_valid].view(-1, block_size * emb_space) @ W1 + b1)\n",
    "        logits = h @ W2 + b2\n",
    "        loss = F.cross_entropy(logits, Y_valid)\n",
    "        losses.append(loss.item())\n",
    "\n",
    "        print(f'Iter: {iter}, Loss: {loss.item()}')"
   ]
  },
  {
   "cell_type": "code",
   "execution_count": 12,
   "metadata": {},
   "outputs": [
    {
     "data": {
      "text/plain": [
       "2.3520700931549072"
      ]
     },
     "execution_count": 12,
     "metadata": {},
     "output_type": "execute_result"
    }
   ],
   "source": [
    "# Calcualte Validation Loss\n",
    "h = F.tanh(emb[X_valid].view(-1, block_size * emb_space) @ W1 + b1)\n",
    "logits = h @ W2 + b2\n",
    "loss = F.cross_entropy(logits, Y_valid)\n",
    "loss.item()"
   ]
  },
  {
   "cell_type": "code",
   "execution_count": 13,
   "metadata": {},
   "outputs": [
    {
     "data": {
      "image/png": "[encoded data removed]",
      "text/plain": [
       "<Figure size 640x480 with 1 Axes>"
      ]
     },
     "metadata": {},
     "output_type": "display_data"
    }
   ],
   "source": [
    "# see the embeddings in 2D space using PCA\n",
    "from sklearn.decomposition import PCA\n",
    "embeddings = np.array(emb.detach().numpy())\n",
    "pca = PCA(n_components=2)\n",
    "emb_2d = pca.fit_transform(embeddings)\n",
    "plt.scatter(emb_2d[:, 0], emb_2d[:, 1])\n",
    "for i, txt in enumerate(chars):\n",
    "    plt.annotate(txt, (emb_2d[i, 0], emb_2d[i, 1]))\n",
    "plt.show()"
   ]
  },
  {
   "cell_type": "code",
   "execution_count": 14,
   "metadata": {},
   "outputs": [
    {
     "name": "stdout",
     "output_type": "stream",
     "text": [
      "illie\n",
      "ela\n",
      "elliette\n",
      "del\n",
      "rey\n",
      "emeri\n",
      "sofi\n",
      "hayne\n",
      "cing\n",
      "ryi\n"
     ]
    }
   ],
   "source": [
    "# Generate names\n",
    "def generate_name():\n",
    "    context = [0] * block_size\n",
    "    name = \"\"\n",
    "    for i in range(10):\n",
    "        x = torch.tensor(context).view(1, -1)\n",
    "        h = F.tanh(emb[x].view(-1, block_size * emb_space) @ W1 + b1)\n",
    "        logits = h @ W2 + b2\n",
    "        p = F.softmax(logits, dim=1).detach().numpy().flatten()\n",
    "        idx = np.random.choice(np.arange(len(p)), p=p)\n",
    "        if idx == 0:\n",
    "            break\n",
    "        name += itos[idx]\n",
    "        context = context[1:] + [idx]\n",
    "    return name\n",
    "\n",
    "for _ in range(10):\n",
    "    print(generate_name())"
   ]
  },
  {
   "cell_type": "code",
   "execution_count": null,
   "metadata": {},
   "outputs": [],
   "source": []
  }
 ],
 "metadata": {
  "kernelspec": {
   "display_name": "Python 3",
   "language": "python",
   "name": "python3"
  },
  "language_info": {
   "codemirror_mode": {
    "name": "ipython",
    "version": 3
   },
   "file_extension": ".py",
   "mimetype": "text/x-python",
   "name": "python",
   "nbconvert_exporter": "python",
   "pygments_lexer": "ipython3",
   "version": "3.10.12"
  }
 },
 "nbformat": 4,
 "nbformat_minor": 2
}
