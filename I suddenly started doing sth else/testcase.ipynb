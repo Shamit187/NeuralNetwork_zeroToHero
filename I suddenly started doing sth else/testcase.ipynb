{
 "cells": [
  {
   "cell_type": "code",
   "execution_count": 35,
   "metadata": {},
   "outputs": [
    {
     "name": "stdout",
     "output_type": "stream",
     "text": [
      "open_phone > keypad > click_menu > speed_dial_numbers > click_drop_down > select_number > enter_name_or_number\n",
      "open_phone > keypad > click_menu > speed_dial_numbers > click_drop_down > select_number > click_contact > select_contact\n",
      "open_phone > keypad > click_menu > speed_dial_numbers > remove_speed_dial_number\n",
      "open_phone > keypad > click_menu > settings > block_numbers > toggle_block_calls_from_unknown_numbers\n",
      "open_phone > keypad > click_menu > settings > block_numbers > menu > unblock_all_numbers\n",
      "open_phone > keypad > click_menu > settings > block_numbers > input_add_phone_number > click_add\n",
      "open_phone > keypad > click_menu > settings > block_numbers > recent_calls > click_numbers > done\n",
      "open_phone > keypad > click_menu > settings > block_numbers > messages > click_messages\n",
      "open_phone > keypad > click_menu > settings > block_numbers > contacts > click_contacts > done\n",
      "open_phone > keypad > click_menu > settings > block_numbers > contacts > groups > click_group > click_contacts > done\n"
     ]
    }
   ],
   "source": [
    "from pathfinder import AppTrie\n",
    "paths = []\n",
    "with open('testcase.txt') as f:\n",
    "    for line in f:\n",
    "        paths.append(line.strip())\n",
    "tree = AppTrie()\n",
    "for path in paths[:10]:\n",
    "    print(path)\n",
    "    tree.insert(path)"
   ]
  },
  {
   "cell_type": "code",
   "execution_count": 38,
   "metadata": {},
   "outputs": [
    {
     "data": {
      "text/plain": [
       "['open_phone > keypad > click_menu > speed_dial_numbers',\n",
       " 'open_phone > keypad > click_menu > settings > block_numbers',\n",
       " 'open_phone > keypad > click_menu > settings > block_numbers > toggle_block_calls_from_unknown_numbers']"
      ]
     },
     "execution_count": 38,
     "metadata": {},
     "output_type": "execute_result"
    }
   ],
   "source": [
    "tree.search(\"unblock_all_numbers\", threshold_lower=0.4, threshold_upper=1)"
   ]
  },
  {
   "cell_type": "code",
   "execution_count": null,
   "metadata": {},
   "outputs": [],
   "source": []
  }
 ],
 "metadata": {
  "kernelspec": {
   "display_name": "Python 3",
   "language": "python",
   "name": "python3"
  },
  "language_info": {
   "codemirror_mode": {
    "name": "ipython",
    "version": 3
   },
   "file_extension": ".py",
   "mimetype": "text/x-python",
   "name": "python",
   "nbconvert_exporter": "python",
   "pygments_lexer": "ipython3",
   "version": "3.8.10"
  }
 },
 "nbformat": 4,
 "nbformat_minor": 2
}
